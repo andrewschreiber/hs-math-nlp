{
 "cells": [
  {
   "cell_type": "markdown",
   "metadata": {},
   "source": [
    "# Math Dataset prediction sample\n",
    "\n",
    "> You can contact me on twitter as [@mandubian](http://twitter.com/mandubian)\n",
    "\n",
    "This notebook demonstrates some predictions using a pre-trained Transformer on Mathematical Reasoning Dataset v1.0 (arithmeric/add_sub/easy) as explained in this very cool paper:\n",
    "\n",
    "> Analysing Mathematical Reasoning Abilities of Neural Models\n",
    ">\n",
    "> David Saxton, Edward Grefenstette, Felix Hill, Pushmeet Kohli\n",
    ">\n",
    "> (Submitted on 2 Apr 2019)\n",
    ">\n",
    ">http://arxiv.org/abs/1904.01557\n",
    "\n",
    "**On top of paper, the current project provides a few Numpy/Pytorch helpers to manipulate Mathematical Reasoning Dataset in a simpler way and train very fast different kinds of models on it. Without loading everything in memory, it tries to manage data in a streamed and lazy-loading way (as much as Python allows it).**\n",
    "\n",
    "The idea of the paper is to provide a robust toolkit (https://github.com/deepmind/mathematics_dataset) to randomly and heterogenously generate mathematical datasets among multiple math problem categories:\n",
    "    - algebra\n",
    "    - numbers\n",
    "    - polynomials\n",
    "    - arithmetic\n",
    "    - measurement\n",
    "    - comparison\n",
    "    - probability\n",
    "    - calculus\n",
    "    \n",
    "All problem are constituted of a textual question like `what is 30 + 535?` (max 160 chars) and a textual response `565` (max 30 chars). So it's not an abstract representation of math problem but a very human one and it mixes Natural Language Processing with math concepts.\n",
    "\n",
    "For each of those categories, it provides multiple operation modules. For ex, in `algebra` category:\n",
    "    - mul\n",
    "    - add_or_sub_in_base\n",
    "    - simplify_surd\n",
    "    - mul_div_multiple\n",
    "    - mixed\n",
    "    - nearest_integer_root\n",
    "    - div\n",
    "    - add_or_sub\n",
    "    - add_sub_multiple\n",
    "    - add_sub_multiple_longer\n",
    "    - mul_div_multiple_longer\n",
    "    - div_big\n",
    "    - mul_big\n",
    "    - mixed_longer\n",
    "    - add_or_sub_big\n",
    "\n",
    "Problem can be generated with different difficulties:\n",
    "    - train-easy\n",
    "    - train-medium\n",
    "    - train-hard\n",
    "\n",
    "It also provides test datasets for `interpolation` tests mixing all kinds of problem per category and `extrapolation` tests to measure generalization capabilities of models.\n",
    "\n",
    ">An implementation of dataset generator is provided at >https://github.com/deepmind/mathematics_dataset and a v1.0 of the dataset is >available there\n",
    "\n",
    "\n",
    "The main purpose of this dataset generator is to provide a playground to people who want to study how neural networks can learn to solve mathematical problems or even better learn math abstractions.\n"
   ]
  },
  {
   "cell_type": "code",
   "execution_count": 87,
   "metadata": {},
   "outputs": [
    {
     "name": "stdout",
     "output_type": "stream",
     "text": [
      "Torch Version 1.0.0.dev20190402\n"
     ]
    }
   ],
   "source": [
    "import math\n",
    "import numpy as np\n",
    "import torch\n",
    "from torch.utils import data\n",
    "import torch.optim as optim\n",
    "import torch.nn.functional as F\n",
    "from tensorboard_utils import Tensorboard\n",
    "\n",
    "from math_dataset import (\n",
    "    LazyFileMathDataset,\n",
    "    MathDatasetManager,\n",
    "    question_answer_to_position_batch_collate_fn\n",
    ")\n",
    "\n",
    "import model_process\n",
    "import utils\n",
    "import checkpoints\n",
    "\n",
    "from tensorboard_utils import Tensorboard\n",
    "from tensorboard_utils import tensorboard_event_accumulator\n",
    "\n",
    "import matplotlib\n",
    "import numpy as np\n",
    "import matplotlib.pyplot as plt\n",
    "%matplotlib notebook  \n",
    "\n",
    "print(\"Torch Version\", torch.__version__)\n",
    "\n",
    "%reload_ext autoreload\n",
    "%autoreload 2"
   ]
  },
  {
   "cell_type": "markdown",
   "metadata": {},
   "source": [
    "## Initialization"
   ]
  },
  {
   "cell_type": "markdown",
   "metadata": {},
   "source": [
    "### Initialize Cuda device"
   ]
  },
  {
   "cell_type": "code",
   "execution_count": 4,
   "metadata": {},
   "outputs": [
    {
     "name": "stdout",
     "output_type": "stream",
     "text": [
      "device cuda\n"
     ]
    }
   ],
   "source": [
    "device = torch.device(\"cuda\")\n",
    "print(\"device\", device)"
   ]
  },
  {
   "cell_type": "markdown",
   "metadata": {},
   "source": [
    "### Build Math-Dataset manager"
   ]
  },
  {
   "cell_type": "code",
   "execution_count": 5,
   "metadata": {},
   "outputs": [
    {
     "name": "stdout",
     "output_type": "stream",
     "text": [
      "initialized MultiFilesMathDataset with categories ['algebra', 'numbers', 'polynomials', 'arithmetic', 'measurement', 'comparison', 'probability', 'calculus'] and types ['train-easy', 'train-medium', 'train-hard', 'interpolate', 'extrapolate']\n"
     ]
    }
   ],
   "source": [
    "mdsmgr = MathDatasetManager(\n",
    "  \"/home/mandubian/datasets/mathematics_dataset/v1.0\"\n",
    ")"
   ]
  },
  {
   "cell_type": "markdown",
   "metadata": {},
   "source": [
    "### Restore Transformer trained arithmetic/add_or_sub/easy"
   ]
  },
  {
   "cell_type": "code",
   "execution_count": 81,
   "metadata": {},
   "outputs": [],
   "source": [
    "exp_name = \"math_ds_arithmetic_add_or_sub_easy\"\n",
    "unique_id = \"2019-04-22T13:32:24\""
   ]
  },
  {
   "cell_type": "markdown",
   "metadata": {},
   "source": [
    "### Restore Transformer model for this experience"
   ]
  },
  {
   "cell_type": "code",
   "execution_count": 10,
   "metadata": {},
   "outputs": [
    {
     "name": "stdout",
     "output_type": "stream",
     "text": [
      "Extracting state from checkpoints/math_ds_arithmetic_add_or_sub_easy_2019-04-22T13:32:24_validation_best.pth\n",
      "Loading model state_dict from state found in checkpoints/math_ds_arithmetic_add_or_sub_easy_2019-04-22T13:32:24_validation_best.pth\n"
     ]
    }
   ],
   "source": [
    "# build default transformer model\n",
    "model = utils.build_transformer()\n",
    "# restore model from checkpoint\n",
    "_ = checkpoints.restore_best_checkpoint(exp_name, unique_id, \"validation\", model)\n"
   ]
  },
  {
   "cell_type": "markdown",
   "metadata": {},
   "source": [
    "### Plotting training of this model"
   ]
  },
  {
   "cell_type": "code",
   "execution_count": 92,
   "metadata": {},
   "outputs": [],
   "source": [
    "valid_ea = tensorboard_event_accumulator(\n",
    "    f\"./runs/{exp_name}_{unique_id}_eval/events.out.tfevents.1555941107.c77692173f6a\"\n",
    ")\n",
    "\n",
    "interpolate_ea = tensorboard_event_accumulator(\n",
    "    f\"./runs/{exp_name}_{unique_id}_interpolate/events.out.tfevents.1555941116.c77692173f6a\"\n",
    ")\n",
    "\n",
    "valid_accuracy = valid_ea.Scalars(\"epoch/accuracy\")\n",
    "valid_loss_per_char = valid_ea.Scalars(\"epoch/loss_per_char\")\n",
    "\n",
    "interpolate_accuracy = interpolate_ea.Scalars(\"epoch/accuracy\")\n",
    "interpolate_loss_per_char = interpolate_ea.Scalars(\"epoch/loss_per_char\")\n"
   ]
  },
  {
   "cell_type": "code",
   "execution_count": 93,
   "metadata": {},
   "outputs": [
    {
     "data": {
      "image/png": "[encoded data removed]",
      "text/plain": [
       "<Figure size 720x432 with 1 Axes>"
      ]
     },
     "metadata": {
      "needs_background": "light"
     },
     "output_type": "display_data"
    }
   ],
   "source": [
    "plt.rcParams['figure.figsize'] = [10, 6]\n",
    "\n",
    "fig, ax = plt.subplots()\n",
    "\n",
    "ax.plot(\n",
    "    list(map(lambda l: l.step, valid_accuracy)),\n",
    "    list(map(lambda l: l.value, valid_accuracy)),\n",
    "    marker='+', label='Validation Accuracy'\n",
    ")\n",
    "ax.plot(\n",
    "    list(map(lambda l: l.step, interpolate_accuracy)),\n",
    "    list(map(lambda l: l.value, interpolate_accuracy)),\n",
    "    marker='+', label='Interpolate Accuracy'\n",
    ")\n",
    "plt.title('Algebra/Linear_1d Accuracy')\n",
    "ax.legend(loc='upper left', frameon=False)\n",
    "plt.xticks(np.arange(0, 20, step=1.0))\n",
    "plt.yticks(np.arange(0.3, 1.0, step=0.1))\n",
    "plt.show()"
   ]
  },
  {
   "cell_type": "markdown",
   "metadata": {},
   "source": [
    "> We see that in terms of validation, training reaches 94-95% on validation dataset and 60% for interpolate dataset."
   ]
  },
  {
   "cell_type": "markdown",
   "metadata": {},
   "source": [
    "## Single Prediction (the 5 best predictions)"
   ]
  },
  {
   "cell_type": "code",
   "execution_count": 14,
   "metadata": {},
   "outputs": [
    {
     "data": {
      "text/plain": [
       "[{'resp': '477', 'score': 0.0},\n",
       " {'resp': '577', 'score': -73.74555969238281},\n",
       " {'resp': '487', 'score': -76.30320739746094},\n",
       " {'resp': '467', 'score': -87.13648986816406},\n",
       " {'resp': '777', 'score': -112.008056640625}]"
      ]
     },
     "execution_count": 14,
     "metadata": {},
     "output_type": "execute_result"
    }
   ],
   "source": [
    "model_process.predict_single(\n",
    "    \"what is 32 + 445?\",\n",
    "    model, device, n_best=5\n",
    ")\n"
   ]
  },
  {
   "cell_type": "markdown",
   "metadata": {},
   "source": [
    "## Multiple Predictions"
   ]
  },
  {
   "cell_type": "code",
   "execution_count": 21,
   "metadata": {},
   "outputs": [
    {
     "data": {
      "text/plain": [
       "[{'resp': '42', 'score': 0.0},\n",
       " {'resp': '111', 'score': 0.0},\n",
       " {'resp': '106', 'score': 0.0}]"
      ]
     },
     "execution_count": 21,
     "metadata": {},
     "output_type": "execute_result"
    }
   ],
   "source": [
    "questions = [\n",
    "    \"what is 10 + 32?\",\n",
    "    \"34 + 77?\",\n",
    "    \"compute -23 + 129\"\n",
    "]\n",
    "\n",
    "model_process.predict_multiple(questions, model, device)"
   ]
  },
  {
   "cell_type": "markdown",
   "metadata": {},
   "source": [
    "### All your base are belong to 111"
   ]
  },
  {
   "cell_type": "code",
   "execution_count": 34,
   "metadata": {},
   "outputs": [
    {
     "name": "stdout",
     "output_type": "stream",
     "text": [
      "[{'resp': '111', 'score': 0.0}, {'resp': '111', 'score': 0.0}]\n",
      "[{'resp': '112', 'score': 0.0}, {'resp': '122', 'score': 0.0}]\n"
     ]
    }
   ],
   "source": [
    "questions = [\n",
    "    \"What is 34 + 77\",\n",
    "    \"What is 34 + 87\",\n",
    "]\n",
    "\n",
    "print(model_process.predict_multiple(questions, model, device))\n",
    "\n",
    "questions = [\n",
    "    \"What is 34 + 78\",\n",
    "    \"What is 34 + 88\",\n",
    "]\n",
    "\n",
    "print(model_process.predict_multiple(questions, model, device))"
   ]
  },
  {
   "cell_type": "markdown",
   "metadata": {},
   "source": [
    "> Ok it still has a few weird issues :p"
   ]
  },
  {
   "cell_type": "markdown",
   "metadata": {},
   "source": [
    "### Find the top worst cases"
   ]
  },
  {
   "cell_type": "code",
   "execution_count": 57,
   "metadata": {},
   "outputs": [
    {
     "name": "stdout",
     "output_type": "stream",
     "text": [
      "initialized MultiFilesMathDataset with categories ['algebra', 'numbers', 'polynomials', 'arithmetic', 'measurement', 'comparison', 'probability', 'calculus'] and types ['train-easy', 'train-medium', 'train-hard', 'interpolate', 'extrapolate']\n",
      "size 666666\n"
     ]
    }
   ],
   "source": [
    "mdsmgr = MathDatasetManager(\n",
    "  \"/home/mandubian/datasets/mathematics_dataset/v1.0\"\n",
    ")\n",
    "\n",
    "ds = mdsmgr.build_dataset_from_module('arithmetic', 'add_or_sub', 'train-easy')\n",
    "print(\"size\", len(ds))\n",
    "\n",
    "ds_loader = data.DataLoader(\n",
    "    ds, batch_size=128, shuffle=False, num_workers=4,\n",
    "    collate_fn=question_answer_to_position_batch_collate_fn)\n"
   ]
  },
  {
   "cell_type": "code",
   "execution_count": null,
   "metadata": {},
   "outputs": [],
   "source": [
    "import math_dataset\n",
    "import collections\n",
    "\n",
    "# Very unefficient Works case computer\n",
    "worst_k = collections.deque(maxlen=10)    \n",
    "\n",
    "def build_worst_k(batch_idx, all_hyp, all_scores):\n",
    "    for i, idx_seqs in enumerate(all_hyp):\n",
    "        r = math_dataset.np_decode_string(np.array(idx_seqs[0]))\n",
    "        s = all_scores[i][0].cpu().item()\n",
    "        if len(worst_k) == 0 or s < worst_k[0][2]:\n",
    "            worst_k.appendleft((batch_idx + i, r, s))\n",
    "\n",
    "model_process.predict_dataset(\n",
    "    ds_loader, model, device,\n",
    "    callback=build_worst_k,\n",
    "    #max_batches=5\n",
    ")\n"
   ]
  },
  {
   "cell_type": "code",
   "execution_count": 76,
   "metadata": {},
   "outputs": [
    {
     "name": "stdout",
     "output_type": "stream",
     "text": [
      "-> question: What is 0.2 plus 0.1973?\n",
      "   predicted: -5.0896 ( 0.3973 )\n",
      "   solution: 0.3973\n",
      "   score -1.60174560546875\n",
      "-> question: What is -3.4 less than -2.9?\n",
      "   predicted: 21.278 ( 0.5 )\n",
      "   solution: 0.5\n",
      "   score -1.5341033935546875\n",
      "-> question: Put together 4 and 191647.\n",
      "   predicted: -2.438 ( 191651 )\n",
      "   solution: 191651\n",
      "   score -1.3736724853515625\n",
      "-> question: Put together 12193 and -7.\n",
      "   predicted: -2155 ( 12186 )\n",
      "   solution: 12186\n",
      "   score -1.3134536743164062\n",
      "-> question: -14649+2\n",
      "   predicted: 2.754 ( -14647 )\n",
      "   solution: -14647\n",
      "   score -0.994903564453125\n",
      "-> question: 2683+2\n",
      "   predicted: 0.082 ( 2685 )\n",
      "   solution: 2685\n",
      "   score -0.789306640625\n",
      "-> question: What is 209 - -0.8?\n",
      "   predicted: 1146.84 ( 209.8 )\n",
      "   solution: 209.8\n",
      "   score -0.76519775390625\n",
      "-> question: -9259432 + 1\n",
      "   predicted: -63.5854 ( -9259431 )\n",
      "   solution: -9259431\n",
      "   score -0.63372802734375\n",
      "-> question: -0.3 + 6703\n",
      "   predicted: 904.269 ( 6702.7 )\n",
      "   solution: 6702.7\n",
      "   score -0.5973968505859375\n",
      "-> question: What is -99634 plus 98?\n",
      "   predicted: -99556 ( -99536 )\n",
      "   solution: -99536\n",
      "   score -0.5908584594726562\n"
     ]
    }
   ],
   "source": [
    "\n",
    "for (idx, r, s) in worst_k:\n",
    "    q = ds[idx][\"q\"]\n",
    "    a = ds[idx][\"a\"]\n",
    "    print(\"-> question:\", q)\n",
    "    print(\"   predicted:\", r, \"(\", a, \")\")\n",
    "    print(\"   solution:\", a)\n",
    "    print(\"   score\", s)\n"
   ]
  },
  {
   "cell_type": "markdown",
   "metadata": {},
   "source": [
    "As you can see, there are completely absurd answers like:\n",
    "\n",
    "```\n",
    "-0.3 + 6703 => 904.269  (should be 6702.7)\n",
    "```\n",
    "\n",
    "and others that aren't so far:\n",
    "\n",
    "```\n",
    "-99634 plus 98 => -99536 (should be -99536)\n",
    "```\n",
    "\n",
    "It's quite hard to know what our transformer learnt. Certainly, not the math laws, neither any abstraction but it can perform a lot of additions in \n"
   ]
  },
  {
   "cell_type": "markdown",
   "metadata": {},
   "source": [
    "### Check Transformer Model trained on arithmetic/add_or_sub/hard"
   ]
  },
  {
   "cell_type": "code",
   "execution_count": 98,
   "metadata": {},
   "outputs": [],
   "source": [
    "exp_name = \"math_ds_arithmetic_add_or_sub_hard\"\n",
    "unique_id = \"20190423_1800\""
   ]
  },
  {
   "cell_type": "markdown",
   "metadata": {},
   "source": [
    "#### Reload model"
   ]
  },
  {
   "cell_type": "code",
   "execution_count": 116,
   "metadata": {},
   "outputs": [
    {
     "name": "stdout",
     "output_type": "stream",
     "text": [
      "Extracting state from checkpoints/math_ds_arithmetic_add_or_sub_hard_20190423_1800_validation_best.pth\n",
      "Loading model state_dict from state found in checkpoints/math_ds_arithmetic_add_or_sub_hard_20190423_1800_validation_best.pth\n"
     ]
    }
   ],
   "source": [
    "# build default transformer model\n",
    "model = utils.build_transformer()\n",
    "# restore model from checkpoint\n",
    "_ = checkpoints.restore_best_checkpoint(exp_name, unique_id, \"validation\", model)\n"
   ]
  },
  {
   "cell_type": "markdown",
   "metadata": {},
   "source": [
    "#### Plot accuracy evolution during training"
   ]
  },
  {
   "cell_type": "code",
   "execution_count": 96,
   "metadata": {},
   "outputs": [],
   "source": [
    "valid_ea = tensorboard_event_accumulator(\n",
    "    f\"./runs/{exp_name}_{unique_id}_eval/events.out.tfevents.1556039027.c77692173f6a\"\n",
    ")\n",
    "\n",
    "interpolate_ea = tensorboard_event_accumulator(\n",
    "    f\"./runs/{exp_name}_{unique_id}_interpolate/events.out.tfevents.1556039036.c77692173f6a\"\n",
    ")\n",
    "\n",
    "valid_accuracy = valid_ea.Scalars(\"epoch/accuracy\")\n",
    "valid_loss_per_char = valid_ea.Scalars(\"epoch/loss_per_char\")\n",
    "\n",
    "interpolate_accuracy = interpolate_ea.Scalars(\"epoch/accuracy\")\n",
    "interpolate_loss_per_char = interpolate_ea.Scalars(\"epoch/loss_per_char\")\n"
   ]
  },
  {
   "cell_type": "code",
   "execution_count": 97,
   "metadata": {},
   "outputs": [
    {
     "data": {
      "image/png": "[encoded data removed]",
      "text/plain": [
       "<Figure size 720x432 with 1 Axes>"
      ]
     },
     "metadata": {
      "needs_background": "light"
     },
     "output_type": "display_data"
    }
   ],
   "source": [
    "plt.rcParams['figure.figsize'] = [10, 6]\n",
    "\n",
    "fig, ax = plt.subplots()\n",
    "\n",
    "ax.plot(\n",
    "    list(map(lambda l: l.step, valid_accuracy)),\n",
    "    list(map(lambda l: l.value, valid_accuracy)),\n",
    "    marker='+', label='Validation Accuracy'\n",
    ")\n",
    "ax.plot(\n",
    "    list(map(lambda l: l.step, interpolate_accuracy)),\n",
    "    list(map(lambda l: l.value, interpolate_accuracy)),\n",
    "    marker='+', label='Interpolate Accuracy'\n",
    ")\n",
    "plt.title('Algebra/Linear_1d Accuracy')\n",
    "ax.legend(loc='upper left', frameon=False)\n",
    "plt.xticks(np.arange(0, 20, step=1.0))\n",
    "plt.yticks(np.arange(0.3, 1.0, step=0.1))\n",
    "plt.show()"
   ]
  },
  {
   "cell_type": "markdown",
   "metadata": {},
   "source": [
    "Compared to model trainined Easy mode, it reaches 85% instead of 95% on validation dataset but it's much more efficient on interpolate dataset (almost same as validation dataset).\n",
    "\n",
    "So it's much more able to manage diversity of interpolate dataset.\n",
    "\n",
    "If we test on "
   ]
  },
  {
   "cell_type": "code",
   "execution_count": 122,
   "metadata": {},
   "outputs": [
    {
     "name": "stdout",
     "output_type": "stream",
     "text": [
      "[{'resp': '-709581481585.144', 'score': 0.0}]\n"
     ]
    }
   ],
   "source": [
    "questions = [\n",
    "    \"-709581481585 - 0.144?\"\n",
    "]\n",
    "\n",
    "print(model_process.predict_multiple(questions, model, device))\n",
    "# solution is -709581481585.144"
   ]
  },
  {
   "cell_type": "markdown",
   "metadata": {},
   "source": [
    "Hey, it's not bad, right?\n",
    "\n",
    "Test it on very simple additions:"
   ]
  },
  {
   "cell_type": "code",
   "execution_count": 123,
   "metadata": {},
   "outputs": [
    {
     "name": "stdout",
     "output_type": "stream",
     "text": [
      "[{'resp': '11.3', 'score': -0.00078582763671875}, {'resp': '51.5', 'score': -0.08533477783203125}]\n"
     ]
    }
   ],
   "source": [
    "questions = [\n",
    "    \"What is 1 + 1\",\n",
    "    \"What is 5 + 5\",\n",
    "]\n",
    "\n",
    "print(model_process.predict_multiple(questions, model, device))"
   ]
  },
  {
   "cell_type": "markdown",
   "metadata": {},
   "source": [
    "Not very good in simple additions :D\n",
    "\n",
    "```\n",
    "1 + 1 => 11.3\n",
    "```\n",
    "\n",
    "\n",
    "So, it's not really computing the additions, it's more about learning to associate characters together in a sequence.\n",
    "\n",
    "So, it's not yet going to replace our little calculators or even our brains but is it possible to push our relational models (or other kinds of models) so far that it understands the laws of additions? That's the stake for my next experiments ;)\n",
    "\n",
    "\n",
    "> Next Steps:\n",
    "> - test funnier models\n",
    "> - test extrapolate models\n",
    "> - train skynet ;)"
   ]
  }
 ],
 "metadata": {
  "kernelspec": {
   "display_name": "Python 3",
   "language": "python",
   "name": "python3"
  },
  "language_info": {
   "codemirror_mode": {
    "name": "ipython",
    "version": 3
   },
   "file_extension": ".py",
   "mimetype": "text/x-python",
   "name": "python",
   "nbconvert_exporter": "python",
   "pygments_lexer": "ipython3",
   "version": "3.6.8"
  }
 },
 "nbformat": 4,
 "nbformat_minor": 2
}

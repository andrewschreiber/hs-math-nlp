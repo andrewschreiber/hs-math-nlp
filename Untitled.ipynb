{
 "cells": [
  {
   "cell_type": "code",
   "execution_count": 1,
   "metadata": {},
   "outputs": [],
   "source": [
    "### Compare the performance of our trained model to the original paper"
   ]
  },
  {
   "cell_type": "code",
   "execution_count": 2,
   "metadata": {},
   "outputs": [],
   "source": [
    "import torch\n",
    "import numpy as np\n",
    "import checkpoints\n",
    "\n",
    "import model_process\n",
    "import utils\n",
    "import matplotlib.pyplot as plt\n",
    "from torch.utils import data\n",
    "\n",
    "from math_dataset import (\n",
    "    MathDatasetManager,\n",
    "    LazyFileMathDataset,\n",
    "    BenchmarkDatasetManager,\n",
    "    question_answer_to_position_batch_collate_fn\n",
    ")\n"
   ]
  },
  {
   "cell_type": "code",
   "execution_count": 3,
   "metadata": {},
   "outputs": [
    {
     "name": "stdout",
     "output_type": "stream",
     "text": [
      "device cpu\n",
      "Extracting state from /Users/andrew/git/hs-math-nlp/checkpoints/checkpoint_b500000_e4_complete.pth\n",
      "Loading model state_dict from state found in /Users/andrew/git/hs-math-nlp/checkpoints/checkpoint_b500000_e4_complete.pth\n"
     ]
    }
   ],
   "source": [
    "device = torch.device(\"cpu\")\n",
    "print(\"device\", device)\n",
    "\n",
    "model_filepath = \"/Users/andrew/git/hs-math-nlp/checkpoints/checkpoint_b500000_e4_complete.pth\"\n",
    "# build default transformer model\n",
    "model = utils.build_transformer()\n",
    "# restore model from checkpoint\n",
    "_ = checkpoints.restore_checkpoint(model_filepath, model)"
   ]
  },
  {
   "cell_type": "code",
   "execution_count": 4,
   "metadata": {},
   "outputs": [
    {
     "name": "stdout",
     "output_type": "stream",
     "text": [
      "initialized MultiFilesMathDataset with categories ['numbers', 'algebra', 'probability', 'arithmetic', 'comparison', 'polynomials', 'measurement', 'calculus'] and types ['train-easy', 'train-medium', 'train-hard', 'interpolate', 'extrapolate']\n"
     ]
    }
   ],
   "source": [
    "mdsmgr = MathDatasetManager(\n",
    "  \"/Users/andrew/git/hs-math-nlp/mathematics_dataset-v1.0\"\n",
    ")"
   ]
  },
  {
   "cell_type": "markdown",
   "metadata": {},
   "source": []
  },
  {
   "cell_type": "code",
   "execution_count": 5,
   "metadata": {},
   "outputs": [
    {
     "name": "stdout",
     "output_type": "stream",
     "text": [
      "10000 questions in /Users/andrew/git/hs-math-nlp/mathematics_dataset-v1.0/interpolate/algebra__linear_1d.txt\n",
      "0    Solve -282*d + 929 - 178 = -1223 for d.\n",
      "1                                          7\n",
      "Name: 0, dtype: object\n"
     ]
    }
   ],
   "source": [
    "ds_path = \"/Users/andrew/git/hs-math-nlp/mathematics_dataset-v1.0\"\n",
    "typ = \"interpolate\"\n",
    "file = \"algebra__linear_1d.txt\"\n",
    "filepath = f\"{ds_path}/{typ}/{file}\"\n",
    "\n",
    "# ds = mdsmgr.build_dataset_from_file(f\"{ds_path}/{typ}/{file}\")\n",
    "# lz = LazyFileMathDataset(filepath)\n",
    "bench = BenchmarkDatasetManager(filepath)\n"
   ]
  },
  {
   "cell_type": "code",
   "execution_count": 6,
   "metadata": {},
   "outputs": [],
   "source": [
    "loader = data.DataLoader(\n",
    "    bench,\n",
    "    batch_size=128,\n",
    "    shuffle=False,\n",
    "    num_workers=1,\n",
    "    collate_fn=question_answer_to_position_batch_collate_fn,\n",
    "    pin_memory=False,\n",
    ")"
   ]
  },
  {
   "cell_type": "code",
   "execution_count": 7,
   "metadata": {},
   "outputs": [
    {
     "name": "stdout",
     "output_type": "stream",
     "text": [
      "Solve -282*d + 929 - 178 = -1223 for d.\n",
      "Solve 49*l + 45*l - 125 - 63 = 0 for l.\n"
     ]
    }
   ],
   "source": [
    "iterator = iter(loader)"
   ]
  },
  {
   "cell_type": "code",
   "execution_count": 8,
   "metadata": {},
   "outputs": [
    {
     "data": {
      "text/plain": [
       "(tensor([[ 2, 52, 80, 77, 87, 70,  1, 14, 19, 25, 19, 11, 69,  1, 12,  1, 26, 19,\n",
       "          26,  1, 14,  1, 18, 24, 25,  1, 30,  1, 14, 18, 19, 19, 20,  1, 71, 80,\n",
       "          83,  1, 69, 15,  3],\n",
       "         [ 2, 52, 80, 77, 87, 70,  1, 21, 26, 11, 77,  1, 12,  1, 21, 22, 11, 77,\n",
       "           1, 14,  1, 18, 19, 22,  1, 14,  1, 23, 20,  1, 30,  1, 17,  1, 71, 80,\n",
       "          83,  1, 77, 15,  3]]),\n",
       " tensor([[ 1,  2,  3,  4,  5,  6,  7,  8,  9, 10, 11, 12, 13, 14, 15, 16, 17, 18,\n",
       "          19, 20, 21, 22, 23, 24, 25, 26, 27, 28, 29, 30, 31, 32, 33, 34, 35, 36,\n",
       "          37, 38, 39, 40, 41],\n",
       "         [ 1,  2,  3,  4,  5,  6,  7,  8,  9, 10, 11, 12, 13, 14, 15, 16, 17, 18,\n",
       "          19, 20, 21, 22, 23, 24, 25, 26, 27, 28, 29, 30, 31, 32, 33, 34, 35, 36,\n",
       "          37, 38, 39, 40, 41]]),\n",
       " tensor([[ 2, 24,  3],\n",
       "         [ 2, 19,  3]]),\n",
       " tensor([[1, 2, 3],\n",
       "         [1, 2, 3]]))"
      ]
     },
     "execution_count": 8,
     "metadata": {},
     "output_type": "execute_result"
    }
   ],
   "source": [
    "iterator.next()"
   ]
  },
  {
   "cell_type": "code",
   "execution_count": 9,
   "metadata": {},
   "outputs": [
    {
     "data": {
      "text/plain": [
       "0"
      ]
     },
     "execution_count": 9,
     "metadata": {},
     "output_type": "execute_result"
    }
   ],
   "source": [
    "0"
   ]
  }
 ],
 "metadata": {
  "kernelspec": {
   "display_name": "Python 3",
   "language": "python",
   "name": "python3"
  },
  "language_info": {
   "codemirror_mode": {
    "name": "ipython",
    "version": 3
   },
   "file_extension": ".py",
   "mimetype": "text/x-python",
   "name": "python",
   "nbconvert_exporter": "python",
   "pygments_lexer": "ipython3",
   "version": "3.7.3"
  }
 },
 "nbformat": 4,
 "nbformat_minor": 4
}
